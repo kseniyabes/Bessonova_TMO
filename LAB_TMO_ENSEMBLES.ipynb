{
 "cells": [
  {
   "cell_type": "markdown",
   "id": "f8de515e",
   "metadata": {},
   "source": [
    "# Бэггинг"
   ]
  },
  {
   "cell_type": "code",
   "execution_count": 13,
   "id": "d89768ff",
   "metadata": {},
   "outputs": [],
   "source": [
    "import numpy as np\n",
    "import pandas as pd\n",
    "from sklearn.datasets import load_diabetes\n",
    "from sklearn.model_selection import train_test_split\n",
    "from sklearn.model_selection import cross_val_score\n",
    "from sklearn.tree import DecisionTreeClassifier, DecisionTreeRegressor\n",
    "from sklearn.ensemble import BaggingRegressor\n",
    "from sklearn.ensemble import AdaBoostRegressor\n",
    "from sklearn.linear_model import LinearRegression\n",
    "from sklearn.ensemble import RandomForestRegressor\n",
    "from sklearn.ensemble import GradientBoostingRegressor\n",
    "from sklearn.metrics import mean_absolute_error, mean_squared_error, mean_squared_log_error, median_absolute_error, r2_score \n",
    "import seaborn as sns\n",
    "import matplotlib.pyplot as plt\n",
    "%matplotlib inline \n",
    "sns.set(style=\"ticks\")\n",
    "\n"
   ]
  },
  {
   "cell_type": "code",
   "execution_count": 4,
   "id": "22548240",
   "metadata": {},
   "outputs": [],
   "source": [
    "diabetes = load_diabetes()\n",
    "diabetes_X = diabetes.data\n",
    "diabetes_y = diabetes.target"
   ]
  },
  {
   "cell_type": "code",
   "execution_count": 6,
   "id": "4933b6de",
   "metadata": {},
   "outputs": [],
   "source": [
    "diabetes_X_train, diabetes_X_test, diabetes_y_train, diabetes_y_test = train_test_split(\n",
    "    diabetes.data, diabetes.target, test_size=0.3, random_state=1)"
   ]
  },
  {
   "cell_type": "code",
   "execution_count": 18,
   "id": "8557e8fb",
   "metadata": {
    "collapsed": true
   },
   "outputs": [
    {
     "name": "stderr",
     "output_type": "stream",
     "text": [
      "/home/anzhela/1cloud/1cloud/lib/python3.8/site-packages/sklearn/ensemble/_bagging.py:1163: UserWarning: Some inputs do not have OOB scores. This probably means too few estimators were used to compute any reliable oob estimates.\n",
      "  warn(\n"
     ]
    },
    {
     "data": {
      "text/plain": [
       "BaggingRegressor(n_estimators=5, oob_score=True, random_state=10)"
      ]
     },
     "execution_count": 18,
     "metadata": {},
     "output_type": "execute_result"
    }
   ],
   "source": [
    "bc1 = BaggingRegressor(n_estimators=5, oob_score=True, random_state=10)\n",
    "bc1.fit(diabetes_X_train, diabetes_y_train)"
   ]
  },
  {
   "cell_type": "code",
   "execution_count": 19,
   "id": "04d2d2b1",
   "metadata": {},
   "outputs": [],
   "source": [
    "target1_2=bc1.predict(diabetes_X_test)"
   ]
  },
  {
   "cell_type": "code",
   "execution_count": 20,
   "id": "b45ac05d",
   "metadata": {},
   "outputs": [
    {
     "data": {
      "text/plain": [
       "4651.767819548873"
      ]
     },
     "execution_count": 20,
     "metadata": {},
     "output_type": "execute_result"
    }
   ],
   "source": [
    "mean_squared_error(diabetes_y_test, target1_2)"
   ]
  },
  {
   "cell_type": "markdown",
   "id": "dcb2d00d",
   "metadata": {},
   "source": [
    "# Бустинг"
   ]
  },
  {
   "cell_type": "code",
   "execution_count": 33,
   "id": "b7051121",
   "metadata": {},
   "outputs": [
    {
     "data": {
      "text/plain": [
       "AdaBoostRegressor(n_estimators=5, random_state=10)"
      ]
     },
     "execution_count": 33,
     "metadata": {},
     "output_type": "execute_result"
    }
   ],
   "source": [
    "ab1 = AdaBoostRegressor(n_estimators=5, random_state=10)\n",
    "ab1.fit(diabetes_X_train, diabetes_y_train)\n"
   ]
  },
  {
   "cell_type": "code",
   "execution_count": 34,
   "id": "8c9a739e",
   "metadata": {},
   "outputs": [],
   "source": [
    "target1_3=ab1.predict(diabetes_X_test)"
   ]
  },
  {
   "cell_type": "code",
   "execution_count": 35,
   "id": "c467b974",
   "metadata": {},
   "outputs": [
    {
     "data": {
      "text/plain": [
       "3862.1045217880464"
      ]
     },
     "execution_count": 35,
     "metadata": {},
     "output_type": "execute_result"
    }
   ],
   "source": [
    "mean_squared_error(diabetes_y_test, target1_3)"
   ]
  },
  {
   "cell_type": "markdown",
   "id": "1eada434",
   "metadata": {},
   "source": [
    "# Градиентный бустинг"
   ]
  },
  {
   "cell_type": "code",
   "execution_count": 49,
   "id": "2660138e",
   "metadata": {},
   "outputs": [
    {
     "data": {
      "text/plain": [
       "GradientBoostingRegressor(n_estimators=5, random_state=10)"
      ]
     },
     "execution_count": 49,
     "metadata": {},
     "output_type": "execute_result"
    }
   ],
   "source": [
    "gr1 = GradientBoostingRegressor(n_estimators=5, random_state=10)\n",
    "gr1.fit(diabetes_X_train, diabetes_y_train)"
   ]
  },
  {
   "cell_type": "code",
   "execution_count": 50,
   "id": "e34607a3",
   "metadata": {},
   "outputs": [],
   "source": [
    "target1_4=gr1.predict(diabetes_X_test)"
   ]
  },
  {
   "cell_type": "code",
   "execution_count": 51,
   "id": "a305a63d",
   "metadata": {},
   "outputs": [
    {
     "data": {
      "text/plain": [
       "3959.4365662851314"
      ]
     },
     "execution_count": 51,
     "metadata": {},
     "output_type": "execute_result"
    }
   ],
   "source": [
    "mean_squared_error(diabetes_y_test, target1_4)"
   ]
  },
  {
   "cell_type": "markdown",
   "id": "c1ca26b1",
   "metadata": {},
   "source": [
    "# Стекинг"
   ]
  },
  {
   "cell_type": "code",
   "execution_count": 1,
   "id": "596571e0",
   "metadata": {},
   "outputs": [],
   "source": [
    "from heamy.estimator import Regressor, Classifier\n",
    "from heamy.pipeline import ModelsPipeline\n",
    "from heamy.dataset import Dataset"
   ]
  },
  {
   "cell_type": "code",
   "execution_count": 11,
   "id": "abe4cc3f",
   "metadata": {},
   "outputs": [],
   "source": [
    "dataset = Dataset(diabetes_X_train, diabetes_y_train, diabetes_X_test)\n",
    "\n",
    "model_tree = Regressor(dataset=dataset, estimator=DecisionTreeRegressor, name='tree')\n",
    "model_lr = Regressor(dataset=dataset, estimator=LinearRegression, parameters={'normalize': True},name='lr')\n",
    "model_rf = Regressor(dataset=dataset, estimator=RandomForestRegressor, parameters={'n_estimators': 50},name='rf')\n"
   ]
  },
  {
   "cell_type": "code",
   "execution_count": 14,
   "id": "582208ac",
   "metadata": {},
   "outputs": [
    {
     "name": "stdout",
     "output_type": "stream",
     "text": [
      "Metric: mean_absolute_error\n",
      "Folds accuracy: [40.75796851321722, 37.25947527773618, 40.710799156867424, 57.533697523153315, 52.56144160283761, 51.86487784630507, 40.70287026810837, 47.050811441346134, 44.46169707994471, 44.778539819033135]\n",
      "Mean accuracy: 45.76821785285492\n",
      "Standard Deviation: 6.122186684469718\n",
      "Variance: 37.48116979949832\n"
     ]
    }
   ],
   "source": [
    "pipeline = ModelsPipeline(model_tree, model_lr)\n",
    "stack_ds = pipeline.stack(k=10, seed=1)\n",
    "stacker = Regressor(dataset=stack_ds, estimator=LinearRegression)\n",
    "results = stacker.validate(k=10,scorer=mean_absolute_error)"
   ]
  },
  {
   "cell_type": "code",
   "execution_count": 15,
   "id": "dda5e58b",
   "metadata": {},
   "outputs": [
    {
     "name": "stdout",
     "output_type": "stream",
     "text": [
      "Metric: mean_absolute_error\n",
      "Folds accuracy: [50.73838709677419, 45.06193548387096, 41.05225806451613, 52.12516129032259, 56.00741935483872, 46.20129032258065, 42.49645161290323, 51.054516129032265, 44.55032258064516, 43.08033333333333]\n",
      "Mean accuracy: 47.23680752688172\n",
      "Standard Deviation: 4.676227779139595\n",
      "Variance: 21.867106242396837\n"
     ]
    }
   ],
   "source": [
    "stacker = Regressor(dataset=stack_ds, estimator=RandomForestRegressor)\n",
    "results = stacker.validate(k=10,scorer=mean_absolute_error)"
   ]
  },
  {
   "cell_type": "code",
   "execution_count": null,
   "id": "d51e7669",
   "metadata": {},
   "outputs": [],
   "source": []
  }
 ],
 "metadata": {
  "kernelspec": {
   "display_name": "Python 3 (ipykernel)",
   "language": "python",
   "name": "python3"
  },
  "language_info": {
   "codemirror_mode": {
    "name": "ipython",
    "version": 3
   },
   "file_extension": ".py",
   "mimetype": "text/x-python",
   "name": "python",
   "nbconvert_exporter": "python",
   "pygments_lexer": "ipython3",
   "version": "3.9.12"
  }
 },
 "nbformat": 4,
 "nbformat_minor": 5
}
