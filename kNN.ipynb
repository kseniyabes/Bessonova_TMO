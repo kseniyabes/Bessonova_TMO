{
 "cells": [
  {
   "cell_type": "code",
   "execution_count": 185,
   "id": "987f5f73",
   "metadata": {},
   "outputs": [],
   "source": [
    "from operator import itemgetter\n",
    "import matplotlib.pyplot as plt\n",
    "import matplotlib.ticker as ticker\n",
    "import numpy as np\n",
    "import math\n",
    "import pandas as pd\n",
    "from sklearn.model_selection import train_test_split\n",
    "from sklearn.neighbors import KNeighborsRegressor, KNeighborsClassifier\n",
    "from sklearn.metrics import accuracy_score, balanced_accuracy_score\n",
    "from sklearn.datasets import load_digits\n",
    "from typing import Dict, Tuple\n",
    "from sklearn.metrics import plot_confusion_matrix\n",
    "from sklearn.metrics import roc_curve, roc_auc_score\n",
    "from sklearn.model_selection import cross_val_score, cross_validate\n",
    "from sklearn.model_selection import KFold, RepeatedKFold, LeaveOneOut, LeavePOut, ShuffleSplit, StratifiedKFold\n",
    "from sklearn.model_selection import GridSearchCV, RandomizedSearchCV\n"
   ]
  },
  {
   "cell_type": "code",
   "execution_count": 130,
   "id": "5aabdb4d",
   "metadata": {},
   "outputs": [],
   "source": [
    "from enum import Enum\n",
    "class PredictionType(Enum):\n",
    "    CLASSIFICATION = 1\n",
    "    REGRESSION = 2"
   ]
  },
  {
   "cell_type": "code",
   "execution_count": 131,
   "id": "f744f589",
   "metadata": {},
   "outputs": [],
   "source": [
    "class SimpleKNN:\n",
    "    \n",
    "    def fit(self, X_train: np.matrix, y_train: np.ndarray):\n",
    "        \"\"\"\n",
    "        Метод обучения, который фактически не учится, \n",
    "        а только запоминает обучающую выборку.\n",
    "        Входные параметры:\n",
    "        X_train - обучающая выборка (матрица объект-признак)\n",
    "        y_train - обучающая выборка (вектор целевого признака)\n",
    "        Возвращаемое значение: нет\n",
    "        \"\"\"\n",
    "        #Сохраняем параметры в переменных класса\n",
    "        self._X_train = X_train\n",
    "        self._y_train = y_train\n",
    "          \n",
    "    def eucl_dist(self, p: np.ndarray, q: np.ndarray) -> float:\n",
    "        \"\"\"\n",
    "        Вычисление Евклидова расстояния - https://en.wikipedia.org/wiki/Euclidean_distance \n",
    "        Входные параметры:\n",
    "        p, q - вектора в n-мерном пространстве признаков\n",
    "        \"\"\"\n",
    "        return math.sqrt(sum([(pi - qi) ** 2 for pi, qi in zip (p, q)]))\n",
    "            \n",
    "            \n",
    "    def predict_for_single_object(self, K: int, \\\n",
    "                prediction_type: PredictionType, \\\n",
    "                X_o: np.ndarray, \\\n",
    "                verbose = True) -> np.ndarray:\n",
    "        \"\"\"\n",
    "        Метод предсказания для одного объекта.\n",
    "        Входные параметры:\n",
    "        K - гиперпараметр, количество соседей \n",
    "        prediction_type - классификация или регрессия \n",
    "        X_o - строка матрицы объект-признак, соответствующая объекту\n",
    "        verbose - флаг детального вывода\n",
    "        Возвращаемое значение: предсказанное значение целевого признака\n",
    "        \"\"\"\n",
    "        # список соседей\n",
    "        neighbors_list = []\n",
    "        # *** Находим ближайшие точки ***\n",
    "        # Перебираем все точки обучающей выборки\n",
    "        for i in range(self._X_train.shape[0]):\n",
    "            # получаем текущую точку\n",
    "            data_train_current_x = [x for x in self._X_train[['x1','x2']].iloc[i]]\n",
    "            # и значение ее y\n",
    "            data_train_current_y = self._y_train[i]\n",
    "            # вычисляем расстояние\n",
    "            dist = self.eucl_dist(X_o, data_train_current_x)\n",
    "            # сохраняем в список соседей\n",
    "            temp_res = (data_train_current_y, dist, data_train_current_x)\n",
    "            neighbors_list.append(temp_res)\n",
    "        # *** сортируем список соседей по возрастанию расстояния *** \n",
    "        # в кортеже элементы следуют в порядке (0,1,2), сортируем по первому элементу \n",
    "        neighbors_list_sorted = sorted(neighbors_list, key=itemgetter(1))\n",
    "        if verbose:\n",
    "            print()\n",
    "            print('**************************************')\n",
    "            print('Проверяемая точка: ', X_o)\n",
    "            print('**************************************')\n",
    "            print('Вывод отсортированного списка соседей:')    \n",
    "            dist_list = []\n",
    "            for cur_y, cur_dist, temp_x_1_2 in neighbors_list_sorted:\n",
    "                temp_x1, temp_x2 = temp_x_1_2\n",
    "                print('X1={0}, X2={1}, y={2}, расстояние={3:.2f}'.format(temp_x1, temp_x2, cur_y, cur_dist))\n",
    "                dist_list.append(cur_dist)\n",
    "            print()\n",
    "            print('Вывод расстояния для отсортированного списка соседей:')    \n",
    "            plt.plot(dist_list)\n",
    "            plt.show()\n",
    "        # Оставим только K ближайших соседей\n",
    "        K_neighbors_list_sorted = neighbors_list_sorted[:K]\n",
    "        if verbose:\n",
    "            print('Вывод К ближайших соседей:')\n",
    "            x1_list = []\n",
    "            x2_list = []\n",
    "            for cur_y, cur_dist, temp_x_1_2 in K_neighbors_list_sorted:\n",
    "                temp_x1, temp_x2 = temp_x_1_2\n",
    "                x1_list.append(temp_x1)\n",
    "                x2_list.append(temp_x2)\n",
    "                print('X1={0}, X2={1}, y={2}, расстояние={3:.2f}'.format(temp_x1, temp_x2, cur_y, cur_dist))\n",
    "            print()\n",
    "            print('Визуализация К ближайших соседей:')\n",
    "            plt.plot(self._X_train['x1'], self._X_train['x2'], 'b.', \\\n",
    "                     x1_list, x2_list,  'g*', \\\n",
    "                    [X_o[0]], [X_o[1]], 'ro')\n",
    "            plt.show()   \n",
    "        # Результат - классификация или регрессия\n",
    "        if prediction_type == PredictionType.REGRESSION:\n",
    "            # используем numpy для вычисления среднего значения\n",
    "            arr = np.array([x for x,_,_ in K_neighbors_list_sorted])\n",
    "            # возвращаем среднее значение\n",
    "            return np.mean(arr)          \n",
    "        elif prediction_type == PredictionType.CLASSIFICATION:\n",
    "            k_y_list = [y for y,_,_ in K_neighbors_list_sorted]\n",
    "            # группируем с количеством метки классов,\n",
    "            # соответствующие K ближайшим соседям\n",
    "            k_y_list_grouped_temp = np.unique(k_y_list, return_counts=True)\n",
    "            k_y_list_grouped = [[key, cnt] for key, cnt in zip(k_y_list_grouped_temp[0], k_y_list_grouped_temp[1])]\n",
    "            # сортируем по количеству по убыванию\n",
    "            k_y_list_grouped_sorted = sorted(k_y_list_grouped, key=itemgetter(1), reverse=True)\n",
    "            if verbose:\n",
    "                print('Классы, соответствующие К ближайшим соседям:')\n",
    "                for i in k_y_list_grouped_sorted:\n",
    "                    print('класс={0}, количество элементов={1}'.format(i[0], i[1]))\n",
    "            # возвращаеv метку класса из первой строки отсортированного массива\n",
    "            # то есть того класса, к которому принадлежит наибольшее количество соседей\n",
    "            return k_y_list_grouped_sorted[0][0]\n",
    "        else:\n",
    "            raise Exception('Неизвестный тип предсказания')\n",
    "                   \n",
    "    \n",
    "    def predict(self, K: int, \\\n",
    "                prediction_type: PredictionType, \\\n",
    "                X_test: np.matrix, \n",
    "                verbose = True) -> np.ndarray:\n",
    "        \"\"\"\n",
    "        Метод предсказания.\n",
    "        Входные параметры:\n",
    "        K - гиперпараметр, количество соседей \n",
    "        prediction_type - классификация или регрессия \n",
    "        X_test - тестовая выборка (матрица объект-признак)\n",
    "        Возвращаемое значение: предсказанный вектор целевого признака\n",
    "        \"\"\"\n",
    "        # Перебираем все точки тестовой выборки\n",
    "        test_data_temp = []\n",
    "        for i in range(X_test.shape[0]):\n",
    "            # получаем текущую точку\n",
    "            data_test_current_x = [x for x in X_test.iloc[i]]\n",
    "            test_data_temp.append(data_test_current_x)       \n",
    "        return [self.predict_for_single_object(K=K, \\\n",
    "                prediction_type=prediction_type, \\\n",
    "                X_o=i, verbose=verbose) for i in test_data_temp]"
   ]
  },
  {
   "cell_type": "code",
   "execution_count": 132,
   "id": "25ec2347",
   "metadata": {},
   "outputs": [
    {
     "data": {
      "text/plain": [
       "array([0, 1, 2, 3, 4, 5, 6, 7, 8, 9])"
      ]
     },
     "execution_count": 132,
     "metadata": {},
     "output_type": "execute_result"
    }
   ],
   "source": [
    "np.unique(housing.target)"
   ]
  },
  {
   "cell_type": "code",
   "execution_count": 133,
   "id": "debdc79f",
   "metadata": {},
   "outputs": [
    {
     "data": {
      "text/plain": [
       "array([[ 0.,  0.,  5., ...,  0.,  0.,  0.],\n",
       "       [ 0.,  0.,  0., ..., 10.,  0.,  0.],\n",
       "       [ 0.,  0.,  0., ..., 16.,  9.,  0.],\n",
       "       ...,\n",
       "       [ 0.,  0.,  1., ...,  6.,  0.,  0.],\n",
       "       [ 0.,  0.,  2., ..., 12.,  0.,  0.],\n",
       "       [ 0.,  0., 10., ..., 12.,  1.,  0.]])"
      ]
     },
     "execution_count": 133,
     "metadata": {},
     "output_type": "execute_result"
    }
   ],
   "source": [
    "housing.data"
   ]
  },
  {
   "cell_type": "code",
   "execution_count": 134,
   "id": "f7696734",
   "metadata": {},
   "outputs": [
    {
     "data": {
      "text/plain": [
       "array([0, 1, 2, 3, 4, 5, 6, 7, 8, 9])"
      ]
     },
     "execution_count": 134,
     "metadata": {},
     "output_type": "execute_result"
    }
   ],
   "source": [
    "housing.target_names"
   ]
  },
  {
   "cell_type": "code",
   "execution_count": 135,
   "id": "ef8e2fb8",
   "metadata": {},
   "outputs": [
    {
     "data": {
      "text/plain": [
       "[(0, 0),\n",
       " (1, 1),\n",
       " (2, 2),\n",
       " (3, 3),\n",
       " (4, 4),\n",
       " (5, 5),\n",
       " (6, 6),\n",
       " (7, 7),\n",
       " (8, 8),\n",
       " (9, 9)]"
      ]
     },
     "execution_count": 135,
     "metadata": {},
     "output_type": "execute_result"
    }
   ],
   "source": [
    "list(zip(np.unique(housing.target), housing.target_names))\n",
    "\n"
   ]
  },
  {
   "cell_type": "code",
   "execution_count": 136,
   "id": "c95394e2",
   "metadata": {},
   "outputs": [
    {
     "data": {
      "text/plain": [
       "array([0, 1, 2, ..., 8, 9, 8])"
      ]
     },
     "execution_count": 136,
     "metadata": {},
     "output_type": "execute_result"
    }
   ],
   "source": [
    "housing.target"
   ]
  },
  {
   "cell_type": "code",
   "execution_count": 137,
   "id": "f7d77980",
   "metadata": {},
   "outputs": [],
   "source": [
    "housing_df = pd.DataFrame(data= np.c_[housing['data'], housing['target']],\n",
    "                     columns= housing['feature_names'] + ['target'])\n"
   ]
  },
  {
   "cell_type": "code",
   "execution_count": 138,
   "id": "284fc382",
   "metadata": {},
   "outputs": [
    {
     "data": {
      "text/html": [
       "<div>\n",
       "<style scoped>\n",
       "    .dataframe tbody tr th:only-of-type {\n",
       "        vertical-align: middle;\n",
       "    }\n",
       "\n",
       "    .dataframe tbody tr th {\n",
       "        vertical-align: top;\n",
       "    }\n",
       "\n",
       "    .dataframe thead th {\n",
       "        text-align: right;\n",
       "    }\n",
       "</style>\n",
       "<table border=\"1\" class=\"dataframe\">\n",
       "  <thead>\n",
       "    <tr style=\"text-align: right;\">\n",
       "      <th></th>\n",
       "      <th>pixel_0_0</th>\n",
       "      <th>pixel_0_1</th>\n",
       "      <th>pixel_0_2</th>\n",
       "      <th>pixel_0_3</th>\n",
       "      <th>pixel_0_4</th>\n",
       "      <th>pixel_0_5</th>\n",
       "      <th>pixel_0_6</th>\n",
       "      <th>pixel_0_7</th>\n",
       "      <th>pixel_1_0</th>\n",
       "      <th>pixel_1_1</th>\n",
       "      <th>...</th>\n",
       "      <th>pixel_6_7</th>\n",
       "      <th>pixel_7_0</th>\n",
       "      <th>pixel_7_1</th>\n",
       "      <th>pixel_7_2</th>\n",
       "      <th>pixel_7_3</th>\n",
       "      <th>pixel_7_4</th>\n",
       "      <th>pixel_7_5</th>\n",
       "      <th>pixel_7_6</th>\n",
       "      <th>pixel_7_7</th>\n",
       "      <th>target</th>\n",
       "    </tr>\n",
       "  </thead>\n",
       "  <tbody>\n",
       "    <tr>\n",
       "      <th>count</th>\n",
       "      <td>1797.0</td>\n",
       "      <td>1797.000000</td>\n",
       "      <td>1797.000000</td>\n",
       "      <td>1797.000000</td>\n",
       "      <td>1797.000000</td>\n",
       "      <td>1797.000000</td>\n",
       "      <td>1797.000000</td>\n",
       "      <td>1797.000000</td>\n",
       "      <td>1797.000000</td>\n",
       "      <td>1797.000000</td>\n",
       "      <td>...</td>\n",
       "      <td>1797.000000</td>\n",
       "      <td>1797.000000</td>\n",
       "      <td>1797.000000</td>\n",
       "      <td>1797.000000</td>\n",
       "      <td>1797.000000</td>\n",
       "      <td>1797.000000</td>\n",
       "      <td>1797.000000</td>\n",
       "      <td>1797.000000</td>\n",
       "      <td>1797.000000</td>\n",
       "      <td>1797.000000</td>\n",
       "    </tr>\n",
       "    <tr>\n",
       "      <th>mean</th>\n",
       "      <td>0.0</td>\n",
       "      <td>0.303840</td>\n",
       "      <td>5.204786</td>\n",
       "      <td>11.835838</td>\n",
       "      <td>11.848080</td>\n",
       "      <td>5.781859</td>\n",
       "      <td>1.362270</td>\n",
       "      <td>0.129661</td>\n",
       "      <td>0.005565</td>\n",
       "      <td>1.993879</td>\n",
       "      <td>...</td>\n",
       "      <td>0.206455</td>\n",
       "      <td>0.000556</td>\n",
       "      <td>0.279354</td>\n",
       "      <td>5.557596</td>\n",
       "      <td>12.089037</td>\n",
       "      <td>11.809126</td>\n",
       "      <td>6.764051</td>\n",
       "      <td>2.067891</td>\n",
       "      <td>0.364496</td>\n",
       "      <td>4.490818</td>\n",
       "    </tr>\n",
       "    <tr>\n",
       "      <th>std</th>\n",
       "      <td>0.0</td>\n",
       "      <td>0.907192</td>\n",
       "      <td>4.754826</td>\n",
       "      <td>4.248842</td>\n",
       "      <td>4.287388</td>\n",
       "      <td>5.666418</td>\n",
       "      <td>3.325775</td>\n",
       "      <td>1.037383</td>\n",
       "      <td>0.094222</td>\n",
       "      <td>3.196160</td>\n",
       "      <td>...</td>\n",
       "      <td>0.984401</td>\n",
       "      <td>0.023590</td>\n",
       "      <td>0.934302</td>\n",
       "      <td>5.103019</td>\n",
       "      <td>4.374694</td>\n",
       "      <td>4.933947</td>\n",
       "      <td>5.900623</td>\n",
       "      <td>4.090548</td>\n",
       "      <td>1.860122</td>\n",
       "      <td>2.865304</td>\n",
       "    </tr>\n",
       "    <tr>\n",
       "      <th>min</th>\n",
       "      <td>0.0</td>\n",
       "      <td>0.000000</td>\n",
       "      <td>0.000000</td>\n",
       "      <td>0.000000</td>\n",
       "      <td>0.000000</td>\n",
       "      <td>0.000000</td>\n",
       "      <td>0.000000</td>\n",
       "      <td>0.000000</td>\n",
       "      <td>0.000000</td>\n",
       "      <td>0.000000</td>\n",
       "      <td>...</td>\n",
       "      <td>0.000000</td>\n",
       "      <td>0.000000</td>\n",
       "      <td>0.000000</td>\n",
       "      <td>0.000000</td>\n",
       "      <td>0.000000</td>\n",
       "      <td>0.000000</td>\n",
       "      <td>0.000000</td>\n",
       "      <td>0.000000</td>\n",
       "      <td>0.000000</td>\n",
       "      <td>0.000000</td>\n",
       "    </tr>\n",
       "    <tr>\n",
       "      <th>25%</th>\n",
       "      <td>0.0</td>\n",
       "      <td>0.000000</td>\n",
       "      <td>1.000000</td>\n",
       "      <td>10.000000</td>\n",
       "      <td>10.000000</td>\n",
       "      <td>0.000000</td>\n",
       "      <td>0.000000</td>\n",
       "      <td>0.000000</td>\n",
       "      <td>0.000000</td>\n",
       "      <td>0.000000</td>\n",
       "      <td>...</td>\n",
       "      <td>0.000000</td>\n",
       "      <td>0.000000</td>\n",
       "      <td>0.000000</td>\n",
       "      <td>1.000000</td>\n",
       "      <td>11.000000</td>\n",
       "      <td>10.000000</td>\n",
       "      <td>0.000000</td>\n",
       "      <td>0.000000</td>\n",
       "      <td>0.000000</td>\n",
       "      <td>2.000000</td>\n",
       "    </tr>\n",
       "    <tr>\n",
       "      <th>50%</th>\n",
       "      <td>0.0</td>\n",
       "      <td>0.000000</td>\n",
       "      <td>4.000000</td>\n",
       "      <td>13.000000</td>\n",
       "      <td>13.000000</td>\n",
       "      <td>4.000000</td>\n",
       "      <td>0.000000</td>\n",
       "      <td>0.000000</td>\n",
       "      <td>0.000000</td>\n",
       "      <td>0.000000</td>\n",
       "      <td>...</td>\n",
       "      <td>0.000000</td>\n",
       "      <td>0.000000</td>\n",
       "      <td>0.000000</td>\n",
       "      <td>4.000000</td>\n",
       "      <td>13.000000</td>\n",
       "      <td>14.000000</td>\n",
       "      <td>6.000000</td>\n",
       "      <td>0.000000</td>\n",
       "      <td>0.000000</td>\n",
       "      <td>4.000000</td>\n",
       "    </tr>\n",
       "    <tr>\n",
       "      <th>75%</th>\n",
       "      <td>0.0</td>\n",
       "      <td>0.000000</td>\n",
       "      <td>9.000000</td>\n",
       "      <td>15.000000</td>\n",
       "      <td>15.000000</td>\n",
       "      <td>11.000000</td>\n",
       "      <td>0.000000</td>\n",
       "      <td>0.000000</td>\n",
       "      <td>0.000000</td>\n",
       "      <td>3.000000</td>\n",
       "      <td>...</td>\n",
       "      <td>0.000000</td>\n",
       "      <td>0.000000</td>\n",
       "      <td>0.000000</td>\n",
       "      <td>10.000000</td>\n",
       "      <td>16.000000</td>\n",
       "      <td>16.000000</td>\n",
       "      <td>12.000000</td>\n",
       "      <td>2.000000</td>\n",
       "      <td>0.000000</td>\n",
       "      <td>7.000000</td>\n",
       "    </tr>\n",
       "    <tr>\n",
       "      <th>max</th>\n",
       "      <td>0.0</td>\n",
       "      <td>8.000000</td>\n",
       "      <td>16.000000</td>\n",
       "      <td>16.000000</td>\n",
       "      <td>16.000000</td>\n",
       "      <td>16.000000</td>\n",
       "      <td>16.000000</td>\n",
       "      <td>15.000000</td>\n",
       "      <td>2.000000</td>\n",
       "      <td>16.000000</td>\n",
       "      <td>...</td>\n",
       "      <td>13.000000</td>\n",
       "      <td>1.000000</td>\n",
       "      <td>9.000000</td>\n",
       "      <td>16.000000</td>\n",
       "      <td>16.000000</td>\n",
       "      <td>16.000000</td>\n",
       "      <td>16.000000</td>\n",
       "      <td>16.000000</td>\n",
       "      <td>16.000000</td>\n",
       "      <td>9.000000</td>\n",
       "    </tr>\n",
       "  </tbody>\n",
       "</table>\n",
       "<p>8 rows × 65 columns</p>\n",
       "</div>"
      ],
      "text/plain": [
       "       pixel_0_0    pixel_0_1    pixel_0_2    pixel_0_3    pixel_0_4  \\\n",
       "count     1797.0  1797.000000  1797.000000  1797.000000  1797.000000   \n",
       "mean         0.0     0.303840     5.204786    11.835838    11.848080   \n",
       "std          0.0     0.907192     4.754826     4.248842     4.287388   \n",
       "min          0.0     0.000000     0.000000     0.000000     0.000000   \n",
       "25%          0.0     0.000000     1.000000    10.000000    10.000000   \n",
       "50%          0.0     0.000000     4.000000    13.000000    13.000000   \n",
       "75%          0.0     0.000000     9.000000    15.000000    15.000000   \n",
       "max          0.0     8.000000    16.000000    16.000000    16.000000   \n",
       "\n",
       "         pixel_0_5    pixel_0_6    pixel_0_7    pixel_1_0    pixel_1_1  ...  \\\n",
       "count  1797.000000  1797.000000  1797.000000  1797.000000  1797.000000  ...   \n",
       "mean      5.781859     1.362270     0.129661     0.005565     1.993879  ...   \n",
       "std       5.666418     3.325775     1.037383     0.094222     3.196160  ...   \n",
       "min       0.000000     0.000000     0.000000     0.000000     0.000000  ...   \n",
       "25%       0.000000     0.000000     0.000000     0.000000     0.000000  ...   \n",
       "50%       4.000000     0.000000     0.000000     0.000000     0.000000  ...   \n",
       "75%      11.000000     0.000000     0.000000     0.000000     3.000000  ...   \n",
       "max      16.000000    16.000000    15.000000     2.000000    16.000000  ...   \n",
       "\n",
       "         pixel_6_7    pixel_7_0    pixel_7_1    pixel_7_2    pixel_7_3  \\\n",
       "count  1797.000000  1797.000000  1797.000000  1797.000000  1797.000000   \n",
       "mean      0.206455     0.000556     0.279354     5.557596    12.089037   \n",
       "std       0.984401     0.023590     0.934302     5.103019     4.374694   \n",
       "min       0.000000     0.000000     0.000000     0.000000     0.000000   \n",
       "25%       0.000000     0.000000     0.000000     1.000000    11.000000   \n",
       "50%       0.000000     0.000000     0.000000     4.000000    13.000000   \n",
       "75%       0.000000     0.000000     0.000000    10.000000    16.000000   \n",
       "max      13.000000     1.000000     9.000000    16.000000    16.000000   \n",
       "\n",
       "         pixel_7_4    pixel_7_5    pixel_7_6    pixel_7_7       target  \n",
       "count  1797.000000  1797.000000  1797.000000  1797.000000  1797.000000  \n",
       "mean     11.809126     6.764051     2.067891     0.364496     4.490818  \n",
       "std       4.933947     5.900623     4.090548     1.860122     2.865304  \n",
       "min       0.000000     0.000000     0.000000     0.000000     0.000000  \n",
       "25%      10.000000     0.000000     0.000000     0.000000     2.000000  \n",
       "50%      14.000000     6.000000     0.000000     0.000000     4.000000  \n",
       "75%      16.000000    12.000000     2.000000     0.000000     7.000000  \n",
       "max      16.000000    16.000000    16.000000    16.000000     9.000000  \n",
       "\n",
       "[8 rows x 65 columns]"
      ]
     },
     "execution_count": 138,
     "metadata": {},
     "output_type": "execute_result"
    }
   ],
   "source": [
    "housing_df.describe()"
   ]
  },
  {
   "cell_type": "code",
   "execution_count": 139,
   "id": "10fea2c8",
   "metadata": {},
   "outputs": [],
   "source": [
    "housing_X_train, housing_X_test, housing_y_train, housing_y_test = train_test_split(\n",
    "    housing.data, housing.target, test_size=0.5, random_state=1)"
   ]
  },
  {
   "cell_type": "code",
   "execution_count": 140,
   "id": "c026b5f0",
   "metadata": {},
   "outputs": [
    {
     "data": {
      "text/plain": [
       "((898, 64), (898,))"
      ]
     },
     "execution_count": 140,
     "metadata": {},
     "output_type": "execute_result"
    }
   ],
   "source": [
    "housing_X_train.shape, housing_y_train.shape"
   ]
  },
  {
   "cell_type": "code",
   "execution_count": 141,
   "id": "f535c105",
   "metadata": {},
   "outputs": [
    {
     "data": {
      "text/plain": [
       "((899, 64), (899,))"
      ]
     },
     "execution_count": 141,
     "metadata": {},
     "output_type": "execute_result"
    }
   ],
   "source": [
    "housing_X_test.shape, housing_y_test.shape"
   ]
  },
  {
   "cell_type": "code",
   "execution_count": 142,
   "id": "f31e66bd",
   "metadata": {},
   "outputs": [
    {
     "data": {
      "text/plain": [
       "array([ 0.,  1.,  2.,  3.,  4.,  5.,  6.,  7.,  8.,  9., 10., 11., 12.,\n",
       "       13., 14., 15., 16.])"
      ]
     },
     "execution_count": 142,
     "metadata": {},
     "output_type": "execute_result"
    }
   ],
   "source": [
    "np.unique(housing_X_train)"
   ]
  },
  {
   "cell_type": "code",
   "execution_count": 143,
   "id": "dc4dfdbc",
   "metadata": {},
   "outputs": [
    {
     "data": {
      "text/plain": [
       "array([ 0.,  1.,  2.,  3.,  4.,  5.,  6.,  7.,  8.,  9., 10., 11., 12.,\n",
       "       13., 14., 15., 16.])"
      ]
     },
     "execution_count": 143,
     "metadata": {},
     "output_type": "execute_result"
    }
   ],
   "source": [
    "np.unique(housing_X_test)"
   ]
  },
  {
   "cell_type": "code",
   "execution_count": 144,
   "id": "e265b47b",
   "metadata": {},
   "outputs": [
    {
     "data": {
      "text/plain": [
       "(899,\n",
       " array([1, 5, 0, 7, 1, 0, 6, 1, 5, 4, 9, 2, 7, 8, 4, 6, 9, 3, 7, 4, 7, 1,\n",
       "        8, 6, 0, 9, 6, 1, 3, 7, 5, 9, 8, 3, 2, 8, 8, 1, 1, 0, 7, 9, 0, 0,\n",
       "        8, 7, 2, 7, 4, 3, 4, 3, 4, 0, 4, 7, 0, 5, 5, 5, 2, 1, 7, 0, 5, 1,\n",
       "        8, 3, 3, 4, 0, 3, 7, 4, 3, 4, 2, 9, 7, 3, 2, 5, 3, 4, 1, 5, 5, 2,\n",
       "        5, 2, 2, 2, 2, 7, 0, 8, 1, 7, 4, 2, 3, 8, 2, 3, 3, 0, 2, 9, 3, 2,\n",
       "        3, 2, 8, 1, 1, 9, 1, 2, 0, 4, 8, 5, 4, 4, 7, 6, 7, 6, 6, 1, 7, 5,\n",
       "        6, 3, 8, 3, 7, 1, 8, 5, 3, 4, 7, 8, 5, 0, 6, 0, 6, 3, 7, 6, 5, 6,\n",
       "        2, 2, 2, 3, 0, 7, 6, 5, 6, 4, 1, 0, 6, 0, 6, 4, 0, 9, 3, 8, 1, 2,\n",
       "        3, 1, 9, 0, 7, 6, 2, 9, 3, 5, 3, 4, 6, 3, 3, 7, 4, 9, 2, 7, 6, 1,\n",
       "        6, 8, 4, 0, 3, 1, 0, 9, 9, 9, 0, 1, 8, 6, 8, 0, 9, 5, 9, 8, 2, 3,\n",
       "        5, 3, 0, 8, 7, 4, 0, 3, 3, 3, 6, 3, 3, 2, 9, 1, 6, 9, 0, 4, 2, 2,\n",
       "        7, 9, 1, 6, 7, 6, 3, 7, 1, 9, 3, 4, 0, 6, 4, 8, 5, 3, 6, 3, 1, 4,\n",
       "        0, 4, 4, 8, 7, 9, 1, 5, 2, 7, 0, 9, 0, 4, 4, 0, 1, 0, 6, 4, 2, 8,\n",
       "        5, 0, 2, 6, 0, 1, 8, 2, 0, 9, 5, 6, 3, 0, 5, 0, 9, 1, 4, 7, 1, 7,\n",
       "        0, 6, 6, 8, 0, 2, 2, 6, 9, 9, 7, 5, 1, 7, 6, 4, 6, 1, 9, 4, 7, 1,\n",
       "        3, 7, 8, 1, 6, 9, 8, 3, 2, 4, 8, 7, 5, 5, 6, 9, 9, 1, 5, 0, 0, 4,\n",
       "        9, 3, 0, 4, 9, 4, 2, 5, 4, 9, 6, 4, 2, 6, 0, 0, 5, 6, 7, 1, 9, 2,\n",
       "        5, 1, 5, 9, 8, 7, 7, 0, 6, 9, 3, 1, 9, 2, 9, 8, 7, 0, 2, 3, 5, 9,\n",
       "        2, 8, 1, 9, 3, 3, 0, 0, 7, 3, 8, 7, 9, 9, 7, 1, 0, 4, 5, 4, 1, 7,\n",
       "        3, 6, 5, 4, 9, 0, 5, 9, 1, 4, 5, 0, 4, 3, 4, 2, 3, 9, 0, 8, 7, 8,\n",
       "        1, 9, 4, 5, 7, 8, 3, 7, 8, 3, 2, 6, 6, 7, 1, 0, 8, 4, 8, 9, 5, 4,\n",
       "        5, 2, 5, 3, 3, 3, 5, 1, 8, 7, 6, 2, 3, 6, 2, 5, 2, 6, 4, 5, 4, 4,\n",
       "        9, 7, 3, 4, 0, 2, 6, 9, 3, 6, 7, 3, 6, 4, 7, 8, 4, 1, 2, 1, 1, 0,\n",
       "        7, 3, 0, 3, 2, 9, 4, 5, 9, 9, 4, 8, 3, 3, 3, 8, 4, 1, 4, 5, 8, 3,\n",
       "        9, 5, 4, 7, 7, 4, 0, 1, 7, 5, 8, 0, 8, 6, 0, 9, 8, 1, 3, 1, 4, 6,\n",
       "        5, 1, 9, 0, 1, 5, 2, 5, 0, 2, 5, 4, 7, 2, 2, 3, 2, 1, 8, 4, 9, 6,\n",
       "        3, 7, 1, 1, 1, 8, 8, 1, 8, 5, 9, 1, 7, 1, 2, 7, 9, 7, 4, 3, 4, 0,\n",
       "        1, 9, 0, 7, 3, 4, 9, 1, 5, 4, 0, 3, 4, 3, 8, 3, 7, 9, 4, 7, 5, 9,\n",
       "        1, 0, 2, 2, 9, 2, 5, 8, 7, 4, 7, 9, 8, 2, 7, 0, 4, 3, 2, 7, 5, 7,\n",
       "        9, 6, 1, 8, 6, 7, 2, 8, 3, 4, 3, 0, 6, 5, 4, 5, 3, 5, 3, 5, 6, 1,\n",
       "        6, 4, 0, 6, 8, 6, 7, 3, 9, 8, 5, 8, 2, 5, 8, 4, 0, 6, 8, 2, 4, 3,\n",
       "        0, 6, 3, 0, 7, 5, 6, 6, 2, 2, 3, 2, 6, 6, 4, 1, 5, 0, 6, 8, 0, 2,\n",
       "        6, 3, 2, 6, 1, 7, 3, 1, 7, 4, 3, 1, 9, 6, 1, 3, 5, 4, 4, 2, 8, 5,\n",
       "        9, 0, 5, 7, 9, 8, 8, 5, 4, 2, 6, 7, 4, 0, 1, 1, 7, 8, 9, 9, 3, 3,\n",
       "        3, 8, 6, 1, 6, 2, 1, 2, 2, 2, 4, 8, 7, 3, 6, 9, 9, 6, 6, 1, 4, 6,\n",
       "        0, 8, 9, 1, 5, 8, 4, 9, 9, 8, 6, 2, 3, 4, 2, 1, 2, 1, 1, 7, 1, 9,\n",
       "        6, 9, 3, 3, 7, 0, 1, 3, 4, 3, 9, 9, 7, 0, 0, 8, 5, 6, 5, 1, 8, 3,\n",
       "        4, 8, 6, 7, 0, 9, 1, 8, 2, 3, 9, 9, 1, 5, 9, 1, 4, 4, 5, 3, 8, 5,\n",
       "        7, 2, 1, 3, 4, 8, 8, 2, 1, 5, 1, 4, 4, 1, 4, 7, 7, 7, 7, 1, 4, 9,\n",
       "        6, 8, 2, 5, 0, 9, 2, 7, 3, 1, 6, 4, 6, 2, 9, 5, 3, 5, 4, 7, 4, 9,\n",
       "        6, 4, 9, 9, 6, 1, 3, 7, 2, 0, 6, 1, 1, 8, 1, 5, 9, 6, 2]))"
      ]
     },
     "execution_count": 144,
     "metadata": {},
     "output_type": "execute_result"
    }
   ],
   "source": [
    "cl1_1 = KNeighborsClassifier(n_neighbors=2)\n",
    "cl1_1.fit(housing_X_train, housing_y_train)\n",
    "target1_1 = cl1_1.predict(housing_X_test)\n",
    "len(target1_1), target1_1\n",
    "\n"
   ]
  },
  {
   "cell_type": "code",
   "execution_count": 145,
   "id": "cbb22aa6",
   "metadata": {},
   "outputs": [
    {
     "data": {
      "text/plain": [
       "(899,\n",
       " array([1, 5, 0, 7, 1, 0, 6, 1, 5, 4, 9, 2, 7, 8, 4, 6, 9, 3, 7, 4, 7, 1,\n",
       "        8, 6, 0, 7, 6, 1, 3, 7, 5, 9, 8, 3, 2, 8, 8, 1, 1, 0, 7, 9, 0, 0,\n",
       "        8, 7, 2, 7, 4, 3, 4, 3, 4, 0, 4, 7, 0, 5, 5, 5, 2, 1, 7, 0, 5, 1,\n",
       "        8, 3, 3, 4, 0, 3, 7, 4, 3, 4, 2, 9, 7, 3, 2, 5, 3, 4, 1, 5, 5, 2,\n",
       "        5, 2, 2, 2, 2, 7, 0, 8, 1, 7, 4, 2, 3, 8, 2, 3, 3, 0, 2, 9, 5, 2,\n",
       "        3, 2, 8, 1, 1, 9, 6, 2, 0, 4, 8, 5, 4, 4, 7, 6, 7, 6, 6, 1, 7, 5,\n",
       "        6, 3, 8, 3, 7, 1, 8, 5, 3, 4, 7, 8, 5, 0, 6, 0, 6, 3, 7, 6, 5, 6,\n",
       "        2, 2, 2, 3, 0, 7, 6, 5, 6, 4, 1, 0, 6, 0, 6, 4, 0, 9, 8, 8, 1, 2,\n",
       "        3, 1, 9, 0, 7, 6, 2, 9, 3, 5, 3, 4, 6, 3, 3, 7, 4, 7, 2, 7, 6, 1,\n",
       "        6, 8, 4, 0, 3, 1, 0, 9, 9, 9, 0, 1, 8, 6, 8, 0, 9, 5, 9, 8, 2, 3,\n",
       "        5, 3, 0, 8, 7, 4, 0, 3, 3, 3, 6, 3, 3, 2, 9, 1, 6, 9, 0, 4, 2, 2,\n",
       "        7, 9, 1, 6, 7, 6, 3, 7, 1, 9, 3, 4, 0, 6, 4, 8, 5, 3, 6, 3, 2, 4,\n",
       "        0, 4, 4, 8, 7, 9, 1, 5, 2, 7, 0, 9, 0, 4, 4, 0, 1, 4, 6, 4, 2, 8,\n",
       "        5, 0, 2, 6, 0, 1, 8, 2, 0, 9, 5, 6, 7, 0, 5, 0, 9, 1, 4, 7, 1, 7,\n",
       "        0, 6, 6, 8, 0, 2, 2, 6, 9, 9, 7, 5, 1, 7, 6, 4, 6, 2, 9, 4, 7, 1,\n",
       "        3, 7, 8, 1, 6, 9, 8, 3, 2, 4, 8, 7, 5, 5, 6, 9, 9, 1, 5, 0, 0, 4,\n",
       "        9, 3, 0, 4, 9, 4, 2, 5, 4, 9, 6, 4, 2, 6, 0, 0, 5, 6, 7, 1, 9, 2,\n",
       "        5, 1, 5, 9, 8, 7, 7, 0, 6, 9, 3, 1, 9, 3, 9, 8, 7, 0, 2, 3, 9, 9,\n",
       "        2, 8, 1, 9, 8, 3, 0, 0, 7, 3, 8, 7, 9, 9, 7, 1, 0, 4, 5, 4, 1, 7,\n",
       "        3, 6, 5, 4, 9, 0, 5, 9, 2, 4, 5, 0, 4, 3, 4, 2, 7, 9, 0, 8, 7, 8,\n",
       "        6, 9, 4, 5, 7, 8, 3, 7, 8, 3, 2, 6, 6, 7, 1, 0, 8, 4, 5, 9, 5, 4,\n",
       "        5, 2, 5, 3, 3, 3, 5, 1, 8, 7, 6, 2, 3, 6, 2, 5, 2, 6, 4, 5, 4, 4,\n",
       "        9, 7, 9, 4, 0, 2, 6, 9, 3, 6, 7, 3, 6, 4, 7, 8, 4, 1, 2, 1, 1, 0,\n",
       "        7, 3, 0, 3, 2, 7, 4, 5, 9, 9, 4, 8, 3, 3, 3, 8, 4, 1, 4, 5, 8, 3,\n",
       "        9, 5, 4, 7, 7, 4, 0, 2, 7, 5, 8, 0, 8, 6, 0, 9, 8, 1, 3, 1, 4, 6,\n",
       "        5, 1, 9, 0, 1, 5, 2, 5, 0, 2, 5, 4, 7, 2, 2, 3, 2, 1, 8, 4, 9, 6,\n",
       "        3, 7, 1, 1, 1, 8, 8, 1, 8, 5, 9, 1, 7, 1, 2, 7, 9, 7, 4, 3, 4, 0,\n",
       "        1, 9, 0, 7, 3, 4, 9, 1, 5, 4, 0, 3, 4, 3, 8, 9, 7, 9, 4, 7, 5, 9,\n",
       "        1, 0, 2, 8, 9, 2, 5, 8, 7, 4, 7, 9, 8, 2, 7, 0, 4, 3, 2, 7, 5, 7,\n",
       "        9, 6, 1, 8, 6, 7, 2, 8, 3, 4, 3, 0, 6, 5, 4, 5, 3, 5, 3, 5, 6, 1,\n",
       "        6, 4, 0, 6, 8, 6, 7, 3, 9, 8, 5, 8, 2, 5, 8, 4, 0, 6, 8, 2, 4, 3,\n",
       "        0, 6, 3, 0, 7, 4, 6, 6, 2, 2, 3, 2, 6, 6, 4, 2, 5, 0, 6, 5, 0, 2,\n",
       "        6, 3, 2, 6, 1, 7, 3, 1, 7, 4, 3, 1, 9, 6, 1, 3, 5, 4, 4, 2, 8, 5,\n",
       "        1, 0, 5, 7, 9, 8, 8, 5, 4, 2, 6, 7, 4, 0, 1, 1, 7, 8, 9, 9, 3, 3,\n",
       "        3, 8, 6, 1, 6, 2, 1, 2, 2, 2, 4, 8, 7, 3, 6, 9, 9, 6, 6, 1, 7, 6,\n",
       "        0, 8, 9, 1, 5, 8, 4, 3, 9, 8, 6, 2, 3, 4, 2, 1, 2, 1, 1, 7, 1, 7,\n",
       "        6, 9, 3, 5, 7, 0, 1, 3, 4, 3, 9, 9, 7, 0, 0, 8, 5, 6, 5, 2, 8, 3,\n",
       "        4, 8, 6, 7, 0, 9, 1, 8, 2, 3, 9, 9, 1, 5, 9, 2, 4, 4, 5, 3, 1, 5,\n",
       "        7, 2, 1, 3, 4, 8, 8, 2, 1, 5, 1, 4, 4, 1, 4, 7, 7, 7, 7, 1, 4, 9,\n",
       "        6, 8, 2, 5, 0, 9, 2, 7, 3, 1, 6, 4, 6, 2, 9, 5, 3, 5, 4, 7, 4, 9,\n",
       "        6, 4, 9, 9, 6, 1, 3, 7, 2, 0, 6, 1, 1, 8, 1, 5, 9, 6, 2]))"
      ]
     },
     "execution_count": 145,
     "metadata": {},
     "output_type": "execute_result"
    }
   ],
   "source": [
    "cl1_2 = KNeighborsClassifier(n_neighbors=15)\n",
    "cl1_2.fit(housing_X_train, housing_y_train)\n",
    "target1_2 = cl1_2.predict(housing_X_test)\n",
    "len(target1_2), target1_2"
   ]
  },
  {
   "cell_type": "code",
   "execution_count": 146,
   "id": "776b79bc",
   "metadata": {},
   "outputs": [
    {
     "data": {
      "text/plain": [
       "0.9755283648498332"
      ]
     },
     "execution_count": 146,
     "metadata": {},
     "output_type": "execute_result"
    }
   ],
   "source": [
    "accuracy_score(housing_y_test, target1_1)\n"
   ]
  },
  {
   "cell_type": "code",
   "execution_count": 147,
   "id": "c3b9e784",
   "metadata": {},
   "outputs": [
    {
     "data": {
      "text/plain": [
       "0.9566184649610678"
      ]
     },
     "execution_count": 147,
     "metadata": {},
     "output_type": "execute_result"
    }
   ],
   "source": [
    "accuracy_score(housing_y_test, target1_2)"
   ]
  },
  {
   "cell_type": "code",
   "execution_count": 148,
   "id": "36668195",
   "metadata": {},
   "outputs": [],
   "source": [
    "def accuracy_score_for_classes(\n",
    "    y_true: np.ndarray, \n",
    "    y_pred: np.ndarray) -> Dict[int, float]:\n",
    "    \"\"\"\n",
    "    Вычисление метрики accuracy для каждого класса\n",
    "    y_true - истинные значения классов\n",
    "    y_pred - предсказанные значения классов\n",
    "    Возвращает словарь: ключ - метка класса, \n",
    "    значение - Accuracy для данного класса\n",
    "    \"\"\"\n",
    "    # Для удобства фильтрации сформируем Pandas DataFrame \n",
    "    d = {'t': y_true, 'p': y_pred}\n",
    "    df = pd.DataFrame(data=d)\n",
    "    # Метки классов\n",
    "    classes = np.unique(y_true)\n",
    "    # Результирующий словарь\n",
    "    res = dict()\n",
    "    # Перебор меток классов\n",
    "    for c in classes:\n",
    "        # отфильтруем данные, которые соответствуют \n",
    "        # текущей метке класса в истинных значениях\n",
    "        temp_data_flt = df[df['t']==c]\n",
    "        # расчет accuracy для заданной метки класса\n",
    "        temp_acc = accuracy_score(\n",
    "            temp_data_flt['t'].values, \n",
    "            temp_data_flt['p'].values)\n",
    "        # сохранение результата в словарь\n",
    "        res[c] = temp_acc\n",
    "    return res\n",
    "\n",
    "def print_accuracy_score_for_classes(\n",
    "    y_true: np.ndarray, \n",
    "    y_pred: np.ndarray):\n",
    "    \"\"\"\n",
    "    Вывод метрики accuracy для каждого класса\n",
    "    \"\"\"\n",
    "    accs = accuracy_score_for_classes(y_true, y_pred)\n",
    "    if len(accs)>0:\n",
    "        print('Метка \\t Accuracy')\n",
    "    for i in accs:\n",
    "        print('{} \\t {}'.format(i, accs[i]))"
   ]
  },
  {
   "cell_type": "code",
   "execution_count": 149,
   "id": "9f7516b5",
   "metadata": {},
   "outputs": [
    {
     "name": "stdout",
     "output_type": "stream",
     "text": [
      "Метка \t Accuracy\n",
      "0 \t 1.0\n",
      "1 \t 0.989247311827957\n",
      "2 \t 0.9882352941176471\n",
      "3 \t 0.9693877551020408\n",
      "4 \t 1.0\n",
      "5 \t 0.9753086419753086\n",
      "6 \t 0.9886363636363636\n",
      "7 \t 1.0\n",
      "8 \t 0.9506172839506173\n",
      "9 \t 0.900990099009901\n"
     ]
    }
   ],
   "source": [
    "print_accuracy_score_for_classes(housing_y_test, target1_1)"
   ]
  },
  {
   "cell_type": "code",
   "execution_count": 150,
   "id": "81930746",
   "metadata": {},
   "outputs": [
    {
     "name": "stdout",
     "output_type": "stream",
     "text": [
      "Метка \t Accuracy\n",
      "0 \t 0.9879518072289156\n",
      "1 \t 0.9032258064516129\n",
      "2 \t 0.9764705882352941\n",
      "3 \t 0.9591836734693877\n",
      "4 \t 0.99\n",
      "5 \t 0.9629629629629629\n",
      "6 \t 1.0\n",
      "7 \t 1.0\n",
      "8 \t 0.9259259259259259\n",
      "9 \t 0.8712871287128713\n"
     ]
    }
   ],
   "source": [
    "print_accuracy_score_for_classes(housing_y_test, target1_2)"
   ]
  },
  {
   "cell_type": "code",
   "execution_count": 151,
   "id": "6df003f4",
   "metadata": {},
   "outputs": [
    {
     "name": "stderr",
     "output_type": "stream",
     "text": [
      "/home/anzhela/1cloud/1cloud/lib/python3.8/site-packages/sklearn/utils/deprecation.py:87: FutureWarning: Function plot_confusion_matrix is deprecated; Function `plot_confusion_matrix` is deprecated in 1.0 and will be removed in 1.2. Use one of the class methods: ConfusionMatrixDisplay.from_predictions or ConfusionMatrixDisplay.from_estimator.\n",
      "  warnings.warn(msg, category=FutureWarning)\n"
     ]
    },
    {
     "data": {
      "text/plain": [
       "<sklearn.metrics._plot.confusion_matrix.ConfusionMatrixDisplay at 0x7f30a2699d30>"
      ]
     },
     "execution_count": 151,
     "metadata": {},
     "output_type": "execute_result"
    },
    {
     "data": {
      "image/png": "[encoded data removed]",
      "text/plain": [
       "<Figure size 432x288 with 2 Axes>"
      ]
     },
     "metadata": {
      "needs_background": "light"
     },
     "output_type": "display_data"
    }
   ],
   "source": [
    "plot_confusion_matrix(cl1_1, housing_X_test, housing_y_test, \n",
    "                      display_labels=housing.target_names, cmap=plt.cm.Blues)\n",
    "\n"
   ]
  },
  {
   "cell_type": "code",
   "execution_count": 152,
   "id": "bee1f13b",
   "metadata": {},
   "outputs": [
    {
     "name": "stderr",
     "output_type": "stream",
     "text": [
      "/home/anzhela/1cloud/1cloud/lib/python3.8/site-packages/sklearn/utils/deprecation.py:87: FutureWarning: Function plot_confusion_matrix is deprecated; Function `plot_confusion_matrix` is deprecated in 1.0 and will be removed in 1.2. Use one of the class methods: ConfusionMatrixDisplay.from_predictions or ConfusionMatrixDisplay.from_estimator.\n",
      "  warnings.warn(msg, category=FutureWarning)\n"
     ]
    },
    {
     "data": {
      "text/plain": [
       "<sklearn.metrics._plot.confusion_matrix.ConfusionMatrixDisplay at 0x7f30a15d05b0>"
      ]
     },
     "execution_count": 152,
     "metadata": {},
     "output_type": "execute_result"
    },
    {
     "data": {
      "image/png": "[encoded data removed]",
      "text/plain": [
       "<Figure size 432x288 with 2 Axes>"
      ]
     },
     "metadata": {
      "needs_background": "light"
     },
     "output_type": "display_data"
    }
   ],
   "source": [
    "plot_confusion_matrix(cl1_2, housing_X_test, housing_y_test, \n",
    "                      display_labels=housing.target_names, cmap=plt.cm.Blues, normalize = \"true\")\n"
   ]
  },
  {
   "cell_type": "code",
   "execution_count": 153,
   "id": "e9450a91",
   "metadata": {},
   "outputs": [
    {
     "name": "stderr",
     "output_type": "stream",
     "text": [
      "/home/anzhela/1cloud/1cloud/lib/python3.8/site-packages/sklearn/utils/deprecation.py:87: FutureWarning: Function plot_confusion_matrix is deprecated; Function `plot_confusion_matrix` is deprecated in 1.0 and will be removed in 1.2. Use one of the class methods: ConfusionMatrixDisplay.from_predictions or ConfusionMatrixDisplay.from_estimator.\n",
      "  warnings.warn(msg, category=FutureWarning)\n",
      "/home/anzhela/1cloud/1cloud/lib/python3.8/site-packages/sklearn/utils/deprecation.py:87: FutureWarning: Function plot_confusion_matrix is deprecated; Function `plot_confusion_matrix` is deprecated in 1.0 and will be removed in 1.2. Use one of the class methods: ConfusionMatrixDisplay.from_predictions or ConfusionMatrixDisplay.from_estimator.\n",
      "  warnings.warn(msg, category=FutureWarning)\n"
     ]
    },
    {
     "data": {
      "image/png": "[encoded data removed]",
      "text/plain": [
       "<Figure size 1080x360 with 4 Axes>"
      ]
     },
     "metadata": {
      "needs_background": "light"
     },
     "output_type": "display_data"
    }
   ],
   "source": [
    "fig, ax = plt.subplots(1, 2, sharex='col', sharey='row', figsize=(15,5))\n",
    "plot_confusion_matrix(cl1_1, housing_X_test, housing_y_test, \n",
    "                      display_labels=housing.target_names, cmap=plt.cm.Blues, normalize = \"true\", ax=ax[0])\n",
    "plot_confusion_matrix(cl1_2, housing_X_test, housing_y_test, \n",
    "                      display_labels=housing.target_names, cmap=plt.cm.Blues, normalize = \"true\", ax=ax[1])\n",
    "fig.suptitle('Матрицы ошибок')\n",
    "ax[0].title.set_text('K=2')\n",
    "ax[1].title.set_text('K=15')"
   ]
  },
  {
   "cell_type": "code",
   "execution_count": 154,
   "id": "b1762c4a",
   "metadata": {},
   "outputs": [
    {
     "data": {
      "text/plain": [
       "array([0, 1, 2, 3, 4, 5, 6, 7, 8, 9])"
      ]
     },
     "execution_count": 154,
     "metadata": {},
     "output_type": "execute_result"
    }
   ],
   "source": [
    "cl1_1.classes_"
   ]
  },
  {
   "cell_type": "markdown",
   "id": "785b83ba",
   "metadata": {},
   "source": [
    "# Кросс-валидация"
   ]
  },
  {
   "cell_type": "code",
   "execution_count": 171,
   "id": "b706d8e1",
   "metadata": {},
   "outputs": [],
   "source": [
    "kf = KFold(n_splits=5)"
   ]
  },
  {
   "cell_type": "code",
   "execution_count": 172,
   "id": "36afac09",
   "metadata": {},
   "outputs": [],
   "source": [
    "scores = cross_val_score(KNeighborsClassifier(n_neighbors=2), housing.data, housing.target, scoring='f1_weighted', cv=kf)"
   ]
  },
  {
   "cell_type": "code",
   "execution_count": 173,
   "id": "91cfd865",
   "metadata": {},
   "outputs": [
    {
     "data": {
      "text/plain": [
       "array([0.96422438, 0.96685658, 0.96918773, 0.97742711, 0.96353696])"
      ]
     },
     "execution_count": 173,
     "metadata": {},
     "output_type": "execute_result"
    }
   ],
   "source": [
    "scores"
   ]
  },
  {
   "cell_type": "code",
   "execution_count": 174,
   "id": "5a80f2b7",
   "metadata": {},
   "outputs": [],
   "source": [
    "kf = RepeatedKFold(n_splits=3, n_repeats =2)"
   ]
  },
  {
   "cell_type": "markdown",
   "id": "aa3577db",
   "metadata": {},
   "source": [
    "# Подбор гиперпараметра"
   ]
  },
  {
   "cell_type": "code",
   "execution_count": 191,
   "id": "409640a5",
   "metadata": {
    "scrolled": true
   },
   "outputs": [
    {
     "data": {
      "text/plain": [
       "[{'n_neighbors': array([ 5, 10, 15, 20, 25, 30, 35, 40, 45, 50])}]"
      ]
     },
     "execution_count": 191,
     "metadata": {},
     "output_type": "execute_result"
    }
   ],
   "source": [
    "n_range = np.array(range(5, 55, 5))\n",
    "tune_par = [{'n_neighbors': n_range}]\n",
    "tune_par"
   ]
  },
  {
   "cell_type": "code",
   "execution_count": 192,
   "id": "acf99888",
   "metadata": {},
   "outputs": [
    {
     "name": "stdout",
     "output_type": "stream",
     "text": [
      "CPU times: user 3.17 s, sys: 2.22 s, total: 5.39 s\n",
      "Wall time: 2.63 s\n"
     ]
    },
    {
     "data": {
      "text/plain": [
       "GridSearchCV(cv=5, estimator=KNeighborsClassifier(),\n",
       "             param_grid=[{'n_neighbors': array([ 5, 10, 15, 20, 25, 30, 35, 40, 45, 50])}],\n",
       "             scoring='accuracy')"
      ]
     },
     "execution_count": 192,
     "metadata": {},
     "output_type": "execute_result"
    }
   ],
   "source": [
    "%%time\n",
    "cls_gs = GridSearchCV(KNeighborsClassifier(), tune_par, cv=5, scoring = 'accuracy' )\n",
    "cls_gs.fit(housing_X_train, housing_y_train)"
   ]
  },
  {
   "cell_type": "code",
   "execution_count": 193,
   "id": "f1bcdf81",
   "metadata": {},
   "outputs": [
    {
     "data": {
      "text/plain": [
       "{'mean_fit_time': array([0.04838142, 0.00159454, 0.00152321, 0.00146861, 0.00146556,\n",
       "        0.00149274, 0.00145812, 0.00152216, 0.00278549, 0.00147009]),\n",
       " 'std_fit_time': array([9.35082688e-02, 1.89131735e-04, 1.60959206e-05, 2.06098486e-05,\n",
       "        1.92733073e-05, 2.26309347e-05, 8.78662748e-05, 4.42620994e-05,\n",
       "        2.53287827e-03, 1.36069976e-05]),\n",
       " 'mean_score_time': array([0.23326616, 0.02209501, 0.02182508, 0.02255764, 0.02156148,\n",
       "        0.02176061, 0.02525697, 0.03322525, 0.02293329, 0.02282667]),\n",
       " 'std_score_time': array([4.19852068e-01, 7.94534662e-04, 4.22266914e-04, 1.90262027e-03,\n",
       "        3.01639535e-04, 2.04461057e-04, 4.18169392e-03, 1.31422868e-02,\n",
       "        6.03586747e-04, 3.15899813e-04]),\n",
       " 'param_n_neighbors': masked_array(data=[5, 10, 15, 20, 25, 30, 35, 40, 45, 50],\n",
       "              mask=[False, False, False, False, False, False, False, False,\n",
       "                    False, False],\n",
       "        fill_value='?',\n",
       "             dtype=object),\n",
       " 'params': [{'n_neighbors': 5},\n",
       "  {'n_neighbors': 10},\n",
       "  {'n_neighbors': 15},\n",
       "  {'n_neighbors': 20},\n",
       "  {'n_neighbors': 25},\n",
       "  {'n_neighbors': 30},\n",
       "  {'n_neighbors': 35},\n",
       "  {'n_neighbors': 40},\n",
       "  {'n_neighbors': 45},\n",
       "  {'n_neighbors': 50}],\n",
       " 'split0_test_score': array([0.96111111, 0.95      , 0.95      , 0.94444444, 0.92777778,\n",
       "        0.92222222, 0.93333333, 0.92222222, 0.91666667, 0.92222222]),\n",
       " 'split1_test_score': array([0.98888889, 0.96111111, 0.96111111, 0.94444444, 0.95      ,\n",
       "        0.94444444, 0.95555556, 0.93888889, 0.93888889, 0.93888889]),\n",
       " 'split2_test_score': array([0.96666667, 0.95      , 0.93888889, 0.94444444, 0.93888889,\n",
       "        0.91666667, 0.91111111, 0.90555556, 0.9       , 0.88888889]),\n",
       " 'split3_test_score': array([0.97765363, 0.96648045, 0.95530726, 0.94972067, 0.94972067,\n",
       "        0.94413408, 0.94972067, 0.94972067, 0.93854749, 0.93854749]),\n",
       " 'split4_test_score': array([0.98882682, 0.98324022, 0.96648045, 0.95530726, 0.94972067,\n",
       "        0.93854749, 0.93296089, 0.93854749, 0.93854749, 0.93296089]),\n",
       " 'mean_test_score': array([0.97662942, 0.96216636, 0.95435754, 0.94767225, 0.9432216 ,\n",
       "        0.93320298, 0.93653631, 0.93098696, 0.92653011, 0.92430168]),\n",
       " 'std_test_score': array([0.01131543, 0.0123278 , 0.00950521, 0.00433003, 0.00880575,\n",
       "        0.01156244, 0.01552445, 0.015454  , 0.0157652 , 0.01870348]),\n",
       " 'rank_test_score': array([ 1,  2,  3,  4,  5,  7,  6,  8,  9, 10], dtype=int32)}"
      ]
     },
     "execution_count": 193,
     "metadata": {},
     "output_type": "execute_result"
    }
   ],
   "source": [
    "cls_gs.cv_results_"
   ]
  },
  {
   "cell_type": "code",
   "execution_count": 194,
   "id": "9d5ad9bb",
   "metadata": {},
   "outputs": [
    {
     "data": {
      "text/plain": [
       "KNeighborsClassifier()"
      ]
     },
     "execution_count": 194,
     "metadata": {},
     "output_type": "execute_result"
    }
   ],
   "source": [
    "cls_gs.best_estimator_"
   ]
  },
  {
   "cell_type": "code",
   "execution_count": 195,
   "id": "f6effbf1",
   "metadata": {},
   "outputs": [
    {
     "data": {
      "text/plain": [
       "{'n_neighbors': 5}"
      ]
     },
     "execution_count": 195,
     "metadata": {},
     "output_type": "execute_result"
    }
   ],
   "source": [
    "cls_gs.best_params_"
   ]
  },
  {
   "cell_type": "code",
   "execution_count": 196,
   "id": "6438d103",
   "metadata": {},
   "outputs": [
    {
     "data": {
      "text/plain": [
       "[<matplotlib.lines.Line2D at 0x7f309fe4d940>]"
      ]
     },
     "execution_count": 196,
     "metadata": {},
     "output_type": "execute_result"
    },
    {
     "data": {
      "image/png": "[encoded data removed]",
      "text/plain": [
       "<Figure size 432x288 with 1 Axes>"
      ]
     },
     "metadata": {
      "needs_background": "light"
     },
     "output_type": "display_data"
    }
   ],
   "source": [
    "plt.plot(n_range, cls_gs.cv_results_['mean_test_score'] )"
   ]
  },
  {
   "cell_type": "code",
   "execution_count": 198,
   "id": "9bec83d7",
   "metadata": {},
   "outputs": [
    {
     "name": "stdout",
     "output_type": "stream",
     "text": [
      "CPU times: user 3.05 s, sys: 1.93 s, total: 4.98 s\n",
      "Wall time: 1.48 s\n"
     ]
    },
    {
     "data": {
      "text/plain": [
       "RandomizedSearchCV(cv=5, estimator=KNeighborsClassifier(),\n",
       "                   param_distributions=[{'n_neighbors': array([ 5, 10, 15, 20, 25, 30, 35, 40, 45, 50])}],\n",
       "                   scoring='accuracy')"
      ]
     },
     "execution_count": 198,
     "metadata": {},
     "output_type": "execute_result"
    }
   ],
   "source": [
    "%%time\n",
    "cls_rs = RandomizedSearchCV(KNeighborsClassifier(), tune_par, cv=5, scoring = 'accuracy' )\n",
    "cls_rs.fit(housing_X_train, housing_y_train)"
   ]
  },
  {
   "cell_type": "code",
   "execution_count": 199,
   "id": "2fc4acb0",
   "metadata": {},
   "outputs": [
    {
     "data": {
      "text/plain": [
       "{'n_neighbors': 5}"
      ]
     },
     "execution_count": 199,
     "metadata": {},
     "output_type": "execute_result"
    }
   ],
   "source": [
    "cls_gs.best_params_"
   ]
  },
  {
   "cell_type": "markdown",
   "id": "5f961564",
   "metadata": {},
   "source": [
    "# Сравнение метрик"
   ]
  },
  {
   "cell_type": "code",
   "execution_count": 200,
   "id": "78e24dab",
   "metadata": {},
   "outputs": [
    {
     "data": {
      "text/plain": [
       "0.9766294227188081"
      ]
     },
     "execution_count": 200,
     "metadata": {},
     "output_type": "execute_result"
    }
   ],
   "source": [
    "cls_gs.best_score_"
   ]
  },
  {
   "cell_type": "code",
   "execution_count": 201,
   "id": "4d86deeb",
   "metadata": {},
   "outputs": [
    {
     "data": {
      "text/plain": [
       "0.9755283648498332"
      ]
     },
     "execution_count": 201,
     "metadata": {},
     "output_type": "execute_result"
    }
   ],
   "source": [
    "accuracy_score(housing_y_test, target1_1)\n"
   ]
  },
  {
   "cell_type": "code",
   "execution_count": null,
   "id": "48daa073",
   "metadata": {},
   "outputs": [],
   "source": []
  }
 ],
 "metadata": {
  "kernelspec": {
   "display_name": "Python 3 (ipykernel)",
   "language": "python",
   "name": "python3"
  },
  "language_info": {
   "codemirror_mode": {
    "name": "ipython",
    "version": 3
   },
   "file_extension": ".py",
   "mimetype": "text/x-python",
   "name": "python",
   "nbconvert_exporter": "python",
   "pygments_lexer": "ipython3",
   "version": "3.9.12"
  }
 },
 "nbformat": 4,
 "nbformat_minor": 5
}
